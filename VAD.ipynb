{
  "nbformat": 4,
  "nbformat_minor": 0,
  "metadata": {
    "colab": {
      "provenance": [],
      "authorship_tag": "ABX9TyNBZfF1QaBsWtIGCENf8Vqb",
      "include_colab_link": true
    },
    "kernelspec": {
      "name": "python3",
      "display_name": "Python 3"
    },
    "language_info": {
      "name": "python"
    }
  },
  "cells": [
    {
      "cell_type": "markdown",
      "metadata": {
        "id": "view-in-github",
        "colab_type": "text"
      },
      "source": [
        "<a href=\"https://colab.research.google.com/github/sumanlaraee/AI-ML/blob/main/VAD.ipynb\" target=\"_parent\"><img src=\"https://colab.research.google.com/assets/colab-badge.svg\" alt=\"Open In Colab\"/></a>"
      ]
    },
    {
      "cell_type": "code",
      "execution_count": null,
      "metadata": {
        "colab": {
          "base_uri": "https://localhost:8080/"
        },
        "id": "X21IJD_7oUga",
        "outputId": "df48f04d-a4c6-4b10-b7b0-bd0a9e8655d9"
      },
      "outputs": [
        {
          "output_type": "stream",
          "name": "stdout",
          "text": [
            "  Installing build dependencies ... \u001b[?25l\u001b[?25hdone\n",
            "  Getting requirements to build wheel ... \u001b[?25l\u001b[?25hdone\n",
            "  Preparing metadata (pyproject.toml) ... \u001b[?25l\u001b[?25hdone\n"
          ]
        }
      ],
      "source": [
        "!pip install -q torch torchaudio\n",
        "!pip install -q git+https://github.com/snakers4/silero-vad\n"
      ]
    },
    {
      "cell_type": "code",
      "source": [
        "video_path = \"/content/zoom_sample.mp4\"\n",
        "!ffmpeg -y -i \"{video_path}\" -ar 16000 -ac 1 -vn -acodec pcm_s16le audio.wav\n"
      ],
      "metadata": {
        "colab": {
          "base_uri": "https://localhost:8080/"
        },
        "id": "Hcmj4WNXouoD",
        "outputId": "43680fd0-3b93-421a-eb32-b2d82dde06d0"
      },
      "execution_count": null,
      "outputs": [
        {
          "output_type": "stream",
          "name": "stdout",
          "text": [
            "ffmpeg version 4.4.2-0ubuntu0.22.04.1 Copyright (c) 2000-2021 the FFmpeg developers\n",
            "  built with gcc 11 (Ubuntu 11.2.0-19ubuntu1)\n",
            "  configuration: --prefix=/usr --extra-version=0ubuntu0.22.04.1 --toolchain=hardened --libdir=/usr/lib/x86_64-linux-gnu --incdir=/usr/include/x86_64-linux-gnu --arch=amd64 --enable-gpl --disable-stripping --enable-gnutls --enable-ladspa --enable-libaom --enable-libass --enable-libbluray --enable-libbs2b --enable-libcaca --enable-libcdio --enable-libcodec2 --enable-libdav1d --enable-libflite --enable-libfontconfig --enable-libfreetype --enable-libfribidi --enable-libgme --enable-libgsm --enable-libjack --enable-libmp3lame --enable-libmysofa --enable-libopenjpeg --enable-libopenmpt --enable-libopus --enable-libpulse --enable-librabbitmq --enable-librubberband --enable-libshine --enable-libsnappy --enable-libsoxr --enable-libspeex --enable-libsrt --enable-libssh --enable-libtheora --enable-libtwolame --enable-libvidstab --enable-libvorbis --enable-libvpx --enable-libwebp --enable-libx265 --enable-libxml2 --enable-libxvid --enable-libzimg --enable-libzmq --enable-libzvbi --enable-lv2 --enable-omx --enable-openal --enable-opencl --enable-opengl --enable-sdl2 --enable-pocketsphinx --enable-librsvg --enable-libmfx --enable-libdc1394 --enable-libdrm --enable-libiec61883 --enable-chromaprint --enable-frei0r --enable-libx264 --enable-shared\n",
            "  libavutil      56. 70.100 / 56. 70.100\n",
            "  libavcodec     58.134.100 / 58.134.100\n",
            "  libavformat    58. 76.100 / 58. 76.100\n",
            "  libavdevice    58. 13.100 / 58. 13.100\n",
            "  libavfilter     7.110.100 /  7.110.100\n",
            "  libswscale      5.  9.100 /  5.  9.100\n",
            "  libswresample   3.  9.100 /  3.  9.100\n",
            "  libpostproc    55.  9.100 / 55.  9.100\n",
            "Input #0, mov,mp4,m4a,3gp,3g2,mj2, from '/content/zoom_sample.mp4':\n",
            "  Metadata:\n",
            "    major_brand     : isom\n",
            "    minor_version   : 512\n",
            "    compatible_brands: isomiso2avc1mp41\n",
            "    encoder         : Lavf60.20.100\n",
            "    comment         : {\"t\": \"v\", \"c\": \"vp8\", \"s\": 1748254936709693, \"u\": 1748254936901003}\n",
            "  Duration: 00:01:23.16, start: 0.000000, bitrate: 678 kb/s\n",
            "  Stream #0:0(und): Video: h264 (High) (avc1 / 0x31637661), yuv420p(tv, bt470bg/unknown/unknown), 1280x720 [SAR 1:1 DAR 16:9], 544 kb/s, 25 fps, 25 tbr, 12800 tbn, 50 tbc (default)\n",
            "    Metadata:\n",
            "      handler_name    : VideoHandler\n",
            "      vendor_id       : [0][0][0][0]\n",
            "      encoder         : Lavc60.39.100 libx264\n",
            "  Stream #0:1(und): Audio: aac (LC) (mp4a / 0x6134706D), 48000 Hz, stereo, fltp, 127 kb/s (default)\n",
            "    Metadata:\n",
            "      handler_name    : SoundHandler\n",
            "      vendor_id       : [0][0][0][0]\n",
            "Stream mapping:\n",
            "  Stream #0:1 -> #0:0 (aac (native) -> pcm_s16le (native))\n",
            "Press [q] to stop, [?] for help\n",
            "Output #0, wav, to 'audio.wav':\n",
            "  Metadata:\n",
            "    major_brand     : isom\n",
            "    minor_version   : 512\n",
            "    compatible_brands: isomiso2avc1mp41\n",
            "    ICMT            : {\"t\": \"v\", \"c\": \"vp8\", \"s\": 1748254936709693, \"u\": 1748254936901003}\n",
            "    ISFT            : Lavf58.76.100\n",
            "  Stream #0:0(und): Audio: pcm_s16le ([1][0][0][0] / 0x0001), 16000 Hz, mono, s16, 256 kb/s (default)\n",
            "    Metadata:\n",
            "      handler_name    : SoundHandler\n",
            "      vendor_id       : [0][0][0][0]\n",
            "      encoder         : Lavc58.134.100 pcm_s16le\n",
            "size=       1kB time=00:00:00.00 bitrate=N/A speed=   0x    \rsize=    2594kB time=00:01:23.00 bitrate= 256.0kbits/s speed= 513x    \n",
            "video:0kB audio:2594kB subtitle:0kB other streams:0kB global headers:0kB muxing overhead: 0.005873%\n"
          ]
        }
      ]
    },
    {
      "cell_type": "code",
      "source": [
        "import torch\n",
        "import torchaudio\n",
        "\n",
        "# Download Silero VAD utils\n",
        "from torch.hub import load\n",
        "\n",
        "# Load the Silero VAD model and utils\n",
        "model, utils = load(\n",
        "    repo_or_dir='snakers4/silero-vad',\n",
        "    model='silero_vad',\n",
        "    source='github',\n",
        "    trust_repo=True\n",
        ")\n",
        "\n",
        "(get_speech_timestamps,\n",
        " save_audio,\n",
        " read_audio,\n",
        " VADIterator,\n",
        " collect_chunks) = utils\n"
      ],
      "metadata": {
        "colab": {
          "base_uri": "https://localhost:8080/"
        },
        "id": "F8sn0qN8o2fL",
        "outputId": "0e8b4fbc-86f1-4730-8759-0c7d9f34a10a"
      },
      "execution_count": null,
      "outputs": [
        {
          "output_type": "stream",
          "name": "stderr",
          "text": [
            "Downloading: \"https://github.com/snakers4/silero-vad/zipball/master\" to /root/.cache/torch/hub/master.zip\n"
          ]
        }
      ]
    },
    {
      "cell_type": "code",
      "source": [
        "# Load the audio file\n",
        "wav = read_audio(\"audio.wav\", sampling_rate=16000)\n",
        "\n",
        "# Get voice timestamps\n",
        "speech_timestamps = get_speech_timestamps(wav, model, sampling_rate=16000)\n",
        "\n",
        "print(speech_timestamps)\n"
      ],
      "metadata": {
        "colab": {
          "base_uri": "https://localhost:8080/"
        },
        "id": "dDLgRjvoqHNa",
        "outputId": "a20289aa-500e-4f1e-e028-593344276818"
      },
      "execution_count": null,
      "outputs": [
        {
          "output_type": "stream",
          "name": "stdout",
          "text": [
            "[{'start': 188448, 'end': 214496}, {'start': 220704, 'end': 273888}, {'start': 285216, 'end': 304096}, {'start': 311328, 'end': 374240}, {'start': 376864, 'end': 395744}, {'start': 397344, 'end': 443872}, {'start': 445472, 'end': 500704}, {'start': 504864, 'end': 528352}, {'start': 560672, 'end': 685536}, {'start': 909856, 'end': 921056}, {'start': 982560, 'end': 995296}, {'start': 1031712, 'end': 1099744}, {'start': 1104928, 'end': 1138656}, {'start': 1143328, 'end': 1166304}, {'start': 1167904, 'end': 1219040}, {'start': 1264672, 'end': 1287136}, {'start': 1301536, 'end': 1308128}]\n"
          ]
        }
      ]
    },
    {
      "cell_type": "code",
      "source": [
        "# Parameters\n",
        "audio_sr = 16000  # Silero VAD sampling rate\n",
        "video_fps = 25    # Replace with actual video FPS if different\n",
        "\n",
        "# Convert VAD timestamps from audio samples → seconds → frame numbers\n",
        "vad_frames = []\n",
        "for ts in speech_timestamps:\n",
        "    start_frame = int(ts['start'] / audio_sr * video_fps)\n",
        "    end_frame = int(ts['end'] / audio_sr * video_fps)\n",
        "    vad_frames.append((start_frame, end_frame))\n",
        "\n",
        "print(vad_frames)\n"
      ],
      "metadata": {
        "id": "S_TFn9nXqZtS",
        "outputId": "45f230b6-b87f-4e95-97e7-a3c2f5335ee9",
        "colab": {
          "base_uri": "https://localhost:8080/"
        }
      },
      "execution_count": null,
      "outputs": [
        {
          "output_type": "stream",
          "name": "stdout",
          "text": [
            "[(294, 335), (344, 427), (445, 475), (486, 584), (588, 618), (620, 693), (696, 782), (788, 825), (876, 1071), (1421, 1439), (1535, 1555), (1612, 1718), (1726, 1779), (1786, 1822), (1824, 1904), (1976, 2011), (2033, 2043)]\n"
          ]
        }
      ]
    }
  ]
}