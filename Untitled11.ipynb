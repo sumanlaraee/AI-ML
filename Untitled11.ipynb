{
  "nbformat": 4,
  "nbformat_minor": 0,
  "metadata": {
    "colab": {
      "provenance": [],
      "authorship_tag": "ABX9TyOvk2pPi/L/ac1IH8kg3iJy",
      "include_colab_link": true
    },
    "kernelspec": {
      "name": "python3",
      "display_name": "Python 3"
    },
    "language_info": {
      "name": "python"
    }
  },
  "cells": [
    {
      "cell_type": "markdown",
      "metadata": {
        "id": "view-in-github",
        "colab_type": "text"
      },
      "source": [
        "<a href=\"https://colab.research.google.com/github/sumanlaraee/AI-ML/blob/main/Untitled11.ipynb\" target=\"_parent\"><img src=\"https://colab.research.google.com/assets/colab-badge.svg\" alt=\"Open In Colab\"/></a>"
      ]
    },
    {
      "cell_type": "code",
      "execution_count": 1,
      "metadata": {
        "colab": {
          "base_uri": "https://localhost:8080/"
        },
        "id": "gGch0N4o7nIM",
        "outputId": "8ade38fe-eab8-4305-bef5-32c6032d605b"
      },
      "outputs": [
        {
          "output_type": "stream",
          "name": "stderr",
          "text": [
            "/usr/local/lib/python3.11/dist-packages/xgboost/core.py:158: UserWarning: [10:25:55] WARNING: /workspace/src/learner.cc:740: \n",
            "Parameters: { \"use_label_encoder\" } are not used.\n",
            "\n",
            "  warnings.warn(smsg, UserWarning)\n"
          ]
        }
      ],
      "source": [
        "import pandas as pd\n",
        "import numpy as np\n",
        "from sklearn.model_selection import train_test_split\n",
        "from sklearn.preprocessing import LabelEncoder\n",
        "import xgboost as xgb\n",
        "\n",
        "# Load dataset (no 'is_fraud' originally)\n",
        "df = pd.read_csv(\"final_dataset_without_fraud_column.csv\")\n",
        "\n",
        "# Simulate 'is_fraud' (replace this with real labels in production)\n",
        "np.random.seed(42)\n",
        "df['is_fraud'] = np.random.choice([0, 1], size=len(df), p=[0.95, 0.05])\n",
        "\n",
        "# Encode categorical variables\n",
        "le = LabelEncoder()\n",
        "for col in df.select_dtypes(include='object').columns:\n",
        "    df[col] = le.fit_transform(df[col].astype(str))\n",
        "\n",
        "# Train-test split\n",
        "X = df.drop(columns=['is_fraud'])\n",
        "y = df['is_fraud']\n",
        "X_train, X_test, y_train, y_test = train_test_split(X, y, stratify=y, random_state=42)\n",
        "\n",
        "# Train XGBoost model\n",
        "model = xgb.XGBClassifier(use_label_encoder=False, eval_metric='logloss',\n",
        "                          n_estimators=30, max_depth=3, learning_rate=0.15)\n",
        "model.fit(X_train, y_train)\n",
        "\n",
        "# Predict dynamic risk score\n",
        "df['dynamic_risk_score'] = model.predict_proba(X)[:, 1] * 100\n",
        "\n",
        "# Assign risk tier\n",
        "df['dynamic_risk_tier'] = df['dynamic_risk_score'].apply(\n",
        "    lambda s: 'Low' if s <= 30 else 'Medium' if s <= 70 else 'High'\n",
        ")\n",
        "\n",
        "# Optional: Drop simulated label\n",
        "df.drop(columns=['is_fraud'], inplace=True)\n",
        "\n",
        "# Save updated file\n",
        "df.to_csv(\"dataset_with_dynamic_risk.csv\", index=False)\n"
      ]
    }
  ]
}