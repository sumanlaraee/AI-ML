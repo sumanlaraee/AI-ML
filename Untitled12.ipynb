{
  "nbformat": 4,
  "nbformat_minor": 0,
  "metadata": {
    "colab": {
      "provenance": [],
      "authorship_tag": "ABX9TyP3+RrKJ4nVzvBtPKvpR9lA",
      "include_colab_link": true
    },
    "kernelspec": {
      "name": "python3",
      "display_name": "Python 3"
    },
    "language_info": {
      "name": "python"
    }
  },
  "cells": [
    {
      "cell_type": "markdown",
      "metadata": {
        "id": "view-in-github",
        "colab_type": "text"
      },
      "source": [
        "<a href=\"https://colab.research.google.com/github/sumanlaraee/AI-ML/blob/main/Untitled12.ipynb\" target=\"_parent\"><img src=\"https://colab.research.google.com/assets/colab-badge.svg\" alt=\"Open In Colab\"/></a>"
      ]
    },
    {
      "cell_type": "code",
      "execution_count": 1,
      "metadata": {
        "colab": {
          "base_uri": "https://localhost:8080/"
        },
        "id": "EhqAiYPQ-R9G",
        "outputId": "f6624cec-e16f-4d41-f635-ae77d73cc233"
      },
      "outputs": [
        {
          "output_type": "stream",
          "name": "stdout",
          "text": [
            "✅ Risk tiers added and file saved as 'dataset_with_total_risk_tier.csv'\n"
          ]
        }
      ],
      "source": [
        "import pandas as pd\n",
        "\n",
        "# Load your dataset with 'total_risk_score' and 'static_risk_score', 'dynamic_risk_score'\n",
        "df = pd.read_csv(\"dataset_with_total_risk.csv\")\n",
        "\n",
        "# Define tier assignment function\n",
        "def assign_total_risk_tier(score):\n",
        "    if score <= 60:\n",
        "        return 'Low'\n",
        "    elif score <= 120:\n",
        "        return 'Medium'\n",
        "    else:\n",
        "        return 'High'\n",
        "\n",
        "# Apply the function to assign tiers\n",
        "df['total_risk_tier'] = df['total_risk_score'].apply(assign_total_risk_tier)\n",
        "\n",
        "# Save the updated dataset\n",
        "df.to_csv(\"dataset_with_total_risk_tier.csv\", index=False)\n",
        "\n",
        "print(\"✅ Risk tiers added and file saved as 'dataset_with_total_risk_tier.csv'\")\n"
      ]
    }
  ]
}